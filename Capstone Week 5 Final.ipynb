{
 "cells": [
  {
   "cell_type": "markdown",
   "metadata": {},
   "source": [
    "\n",
    "# Exploring the street trees for Waterloo to see environmental care.\n",
    "\n",
    "## 1. Introduction \n",
    "### a. Background\n",
    "\n",
    "This report is for those who want to see how much environmental friendly the city of Waterloo is. It provides a suggestion on what would be the best venue to start planting trees or at least try to maintain the existing ones.\n",
    "\n",
    "Waterloo may not be the most populated city in Canada right now but it the influx of new students will change that. Waterloo is becoming the Technology hub of Canada with many Tech companies and start-ups opened especially influx of new 100,000 students enrolling every year in universities.\n",
    "\n",
    "b. Business Problem\n",
    "This report focusses on the issue of where to plant trees.\n",
    "\n",
    "c. Interest\n",
    "On what basis can the government decide the plant location?\n",
    "While selecting the place there are key points to consider like they need to check out like where the most well-visited venues of the city are. If the place is more populated, the more trees should be planted. \n",
    "\n",
    "### 2. Data Preparation\n",
    "\n",
    "### a.\tScrapping Waterloo Table from City of Waterloo homepage\n",
    "\n",
    "http://data.waterloo.ca/datasets/cityofcambridge::street-trees/data\n",
    "\n",
    "I first make use of waterloo page from City of waterloo to scrap the table to create a data-frame. For this, I used requests and Beautifulsoup4 library to create a data-frame containing name of the districts of Tokoyo, Area, population and 1st Major District. We start as below —\n",
    "2. Approach\n",
    "\n",
    "Foursquare API:\n",
    "This project would use Four-square API as its prime data gathering source as it has a database of millions of places, especially their places API which provides the ability to perform location search, location sharing and details about a business.\n",
    "Custering Approach:\n",
    "To compare the similarities of two cities, we decided to explore neighborhoods, segment them, and group them into clusters to find similar neighborhoods in a city like Waterloo. To be able to do that, we need to cluster data which is a form of unsupervised machine learning: k-means clustering algorithm\n",
    "\n",
    "Libraries Which are Used to Develope the Project:\n",
    "\n",
    "Pandas: For creating and manipulating dataframes.\n",
    "Folium: Python visualization library would be used to visualize the neighborhoods cluster distribution of using interactive leaflet map.\n",
    "Scikit Learn: For importing k-means clustering.\n",
    "JSON: Library to handle JSON files.\n",
    "XML: To separate data from presentation and XML stores data in plain text format.\n",
    "Geocoder: To retrieve Location Data.\n",
    "Beautiful Soup and Requests: To scrap and library to handle http requests.\n",
    "Matplotlib: Python Plotting Module.\n",
    "\n"
   ]
  },
  {
   "cell_type": "code",
   "execution_count": 1,
   "metadata": {},
   "outputs": [
    {
     "name": "stdout",
     "output_type": "stream",
     "text": [
      "Libraries imported.\n"
     ]
    }
   ],
   "source": [
    "import pandas as pd\n",
    "import numpy as np\n",
    "pd.set_option('display.max_columns', None)\n",
    "pd.set_option('display.max_rows', None)\n",
    "import requests\n",
    "from bs4 import BeautifulSoup\n",
    "\n",
    "# Matplotlib and associated plotting modules\n",
    "import matplotlib.pyplot as plt\n",
    "import matplotlib.cm as cm\n",
    "import matplotlib.colors as colors\n",
    "%matplotlib inline\n",
    "\n",
    "print('Libraries imported.')   "
   ]
  },
  {
   "cell_type": "code",
   "execution_count": 3,
   "metadata": {},
   "outputs": [
    {
     "name": "stdout",
     "output_type": "stream",
     "text": [
      "dataset uploaded\n"
     ]
    }
   ],
   "source": [
    "import requests\n",
    "website_url = requests.get('http://data.waterloo.ca/datasets/cityofcambridge::street-trees/data').text\n",
    "print('dataset uploaded')"
   ]
  },
  {
   "cell_type": "code",
   "execution_count": 9,
   "metadata": {},
   "outputs": [
    {
     "name": "stdout",
     "output_type": "stream",
     "text": [
      "beautiful soup\n"
     ]
    }
   ],
   "source": [
    "from bs4 import BeautifulSoup as bsoup\n",
    "from urllib.request import urlopen as uReq\n",
    "import requests\n",
    "import lxml\n",
    "import pandas as pd\n",
    "from pandas import DataFrame\n",
    "import numpy as np\n",
    "\n",
    "print('beautiful soup')\n"
   ]
  },
  {
   "cell_type": "code",
   "execution_count": 10,
   "metadata": {},
   "outputs": [
    {
     "name": "stdout",
     "output_type": "stream",
     "text": [
      "more libraries imported\n"
     ]
    }
   ],
   "source": [
    "from urllib.request import urlopen as uReq\n",
    "import requests\n",
    "import lxml\n",
    "import pandas as pd\n",
    "from pandas import DataFrame\n",
    "import numpy as np\n",
    "\n",
    "print('more libraries imported')"
   ]
  },
  {
   "cell_type": "code",
   "execution_count": 11,
   "metadata": {},
   "outputs": [],
   "source": [
    "def geo_location(address):\n",
    "    # get geo location of address\n",
    "    geolocator = Nominatim(user_agent=\"ny_explorer\")\n",
    "    location = geolocator.geocode(address)\n",
    "    latitude = location.latitude\n",
    "    longitude = location.longitude\n",
    "    return latitude,longitude"
   ]
  },
  {
   "cell_type": "code",
   "execution_count": 12,
   "metadata": {},
   "outputs": [],
   "source": [
    "my_url='http://data.waterloo.ca/datasets/cityofcambridge::street-trees/data'"
   ]
  },
  {
   "cell_type": "code",
   "execution_count": 13,
   "metadata": {},
   "outputs": [],
   "source": [
    "r=requests.get(my_url)"
   ]
  },
  {
   "cell_type": "code",
   "execution_count": 14,
   "metadata": {},
   "outputs": [
    {
     "data": {
      "text/plain": [
       "<!DOCTYPE html>\n",
       "<html lang=\"en-us\"><head><title>Street Trees</title><meta content=\"Street Trees\" name=\"twitter:title\"/><meta content=\"Street Trees\" property=\"og:title\"/><meta content=\"Inventory of City Trees. Inventory includes both fully owned city trees as well as some shared trees with private property owners. Not all the trees have an established ownership and are still under review. The tree inventory does include trees found in parks and wooded areas.\" name=\"description\"/><meta content=\"Inventory of City Trees. Inventory includes both fully owned city trees as well as some shared trees with private property owners. Not all the trees have an established ownership and are still under review. The tree inventory does include trees found in parks and wooded areas.\" name=\"twitter:description\"/><meta content=\"Inventory of City Trees. Inventory includes both fully owned city trees as well as some shared trees with private property owners. Not all the trees have an established ownership and are still under review. The tree inventory does include trees found in parks and wooded areas.\" property=\"og:description\"/><meta content=\"https://www.arcgis.com/sharing/rest/content/items/93f699f0aeba49f1acb582cf26b90ed7/info/thumbnail/thumbnail.png?w=500\" name=\"twitter:image\"/><meta content=\"https://www.arcgis.com/sharing/rest/content/items/93f699f0aeba49f1acb582cf26b90ed7/info/thumbnail/thumbnail.png?w=500\" property=\"og:image\"/><meta content=\"summary\" name=\"twitter:card\"/><meta content=\"http://data.waterloo.ca/datasets/cityofcambridge::street-trees/data\" property=\"og:url\"/><meta content=\"website\" property=\"og:type\"/>\n",
       "<meta charset=\"utf-8\"/>\n",
       "<meta content=\"V9SzvB895BKr2ff7JVvaJQM1CIgPqOL5FPooX1aqENo\" name=\"google-site-verification\"/>\n",
       "<meta content=\"217F0EED65C5B131219477CE2CEAAF8E\" name=\"msvalidate.01\"/>\n",
       "<meta content=\"width=device-width, initial-scale=1\" name=\"viewport\"/>\n",
       "<meta content=\"%7B%22modulePrefix%22%3A%22activation-engine%22%2C%22environment%22%3A%22production%22%2C%22ember-do-forms%22%3A%7B%22defaultClasses%22%3A%7B%22field%22%3A%5B%22field%22%5D%2C%22label%22%3A%5B%22label%22%5D%2C%22control%22%3A%5B%22control%22%5D%2C%22feedback%22%3A%5B%22feedback%22%5D%2C%22hint%22%3A%5B%22hint%22%5D%7D%2C%22validationClasses%22%3A%7B%22fieldSuccess%22%3A%5B%22field-success%22%5D%2C%22fieldError%22%3A%5B%22field-error%22%5D%2C%22controlSuccess%22%3A%5B%22control-success%22%5D%2C%22controlError%22%3A%5B%22control-error%22%5D%7D%7D%7D\" name=\"activation-engine/config/environment\"/>\n",
       "<meta content=\"%7B%22modulePrefix%22%3A%22community-engine%22%2C%22environment%22%3A%22production%22%7D\" name=\"community-engine/config/environment\"/>\n",
       "<meta content=\"%7B%22modulePrefix%22%3A%22content-library-engine%22%2C%22environment%22%3A%22production%22%2C%22ember-do-forms%22%3A%7B%22defaultClasses%22%3A%7B%22field%22%3A%5B%22field%22%5D%2C%22label%22%3A%5B%22label%22%5D%2C%22control%22%3A%5B%22control%22%5D%2C%22feedback%22%3A%5B%22feedback%22%5D%2C%22hint%22%3A%5B%22hint%22%5D%7D%2C%22validationClasses%22%3A%7B%22fieldSuccess%22%3A%5B%22field-success%22%5D%2C%22fieldError%22%3A%5B%22field-error%22%5D%2C%22controlSuccess%22%3A%5B%22control-success%22%5D%2C%22controlError%22%3A%5B%22control-error%22%5D%7D%7D%7D\" name=\"content-library-engine/config/environment\"/>\n",
       "<meta content=\"%7B%22modulePrefix%22%3A%22dashboard-engine%22%2C%22environment%22%3A%22production%22%2C%22cedar%22%3A%7B%22amCharts%22%3A%7B%22dependencies%22%3A%5B%22amcharts.js%22%2C%22serial.js%22%2C%22xy.js%22%2C%22pie.js%22%2C%22radar.js%22%2C%22https%3A//unpkg.com/@esri/cedar@1.0.0-beta.9/dist/umd/themes/amCharts/calcite.js%22%5D%2C%22baseUrl%22%3A%22https%3A//www.amcharts.com/lib/3%22%7D%7D%7D\" name=\"dashboard-engine/config/environment\"/>\n",
       "<meta content=\"%7B%22modulePrefix%22%3A%22events-engine%22%2C%22environment%22%3A%22production%22%2C%22ember-do-forms%22%3A%7B%22defaultClasses%22%3A%7B%22field%22%3A%5B%22field%22%5D%2C%22label%22%3A%5B%22label%22%5D%2C%22control%22%3A%5B%22control%22%5D%2C%22feedback%22%3A%5B%22feedback%22%5D%2C%22hint%22%3A%5B%22hint%22%5D%7D%2C%22validationClasses%22%3A%7B%22fieldSuccess%22%3A%5B%22field-success%22%5D%2C%22fieldError%22%3A%5B%22field-error%22%5D%2C%22controlSuccess%22%3A%5B%22control-success%22%5D%2C%22controlError%22%3A%5B%22control-error%22%5D%7D%7D%7D\" name=\"events-engine/config/environment\"/>\n",
       "<meta content=\"%7B%22modulePrefix%22%3A%22feedback-engine%22%2C%22environment%22%3A%22production%22%7D\" name=\"feedback-engine/config/environment\"/>\n",
       "<meta content=\"%7B%22modulePrefix%22%3A%22initiative-editor-engine%22%2C%22environment%22%3A%22production%22%7D\" name=\"initiative-editor-engine/config/environment\"/>\n",
       "<meta content=\"%7B%22modulePrefix%22%3A%22layout-editor-engine%22%2C%22environment%22%3A%22production%22%2C%22cedar%22%3A%7B%22amCharts%22%3A%7B%22dependencies%22%3A%5B%22amcharts.js%22%2C%22serial.js%22%2C%22xy.js%22%2C%22pie.js%22%2C%22radar.js%22%2C%22https%3A//unpkg.com/@esri/cedar@1.0.0-beta.9/dist/umd/themes/amCharts/calcite.js%22%5D%2C%22baseUrl%22%3A%22https%3A//www.amcharts.com/lib/3%22%7D%7D%7D\" name=\"layout-editor-engine/config/environment\"/>\n",
       "<meta content=\"%7B%22modulePrefix%22%3A%22maps-engine%22%2C%22environment%22%3A%22production%22%7D\" name=\"maps-engine/config/environment\"/>\n",
       "<meta content=\"%7B%22modulePrefix%22%3A%22overview-engine%22%2C%22environment%22%3A%22production%22%7D\" name=\"overview-engine/config/environment\"/>\n",
       "<meta content=\"%7B%22modulePrefix%22%3A%22solutions-engine%22%2C%22environment%22%3A%22production%22%2C%22ember-do-forms%22%3A%7B%22defaultClasses%22%3A%7B%22field%22%3A%5B%22field%22%5D%2C%22label%22%3A%5B%22label%22%5D%2C%22control%22%3A%5B%22control%22%5D%2C%22feedback%22%3A%5B%22feedback%22%5D%2C%22hint%22%3A%5B%22hint%22%5D%7D%2C%22validationClasses%22%3A%7B%22fieldSuccess%22%3A%5B%22field-success%22%5D%2C%22fieldError%22%3A%5B%22field-error%22%5D%2C%22controlSuccess%22%3A%5B%22control-success%22%5D%2C%22controlError%22%3A%5B%22control-error%22%5D%7D%7D%7D\" name=\"solutions-engine/config/environment\"/>\n",
       "<meta content=\"%7B%22modulePrefix%22%3A%22teams-engine%22%2C%22environment%22%3A%22production%22%2C%22ember-do-forms%22%3A%7B%22defaultClasses%22%3A%7B%22field%22%3A%5B%22field%22%5D%2C%22label%22%3A%5B%22label%22%5D%2C%22control%22%3A%5B%22control%22%5D%2C%22feedback%22%3A%5B%22feedback%22%5D%2C%22hint%22%3A%5B%22hint%22%5D%7D%2C%22validationClasses%22%3A%7B%22fieldSuccess%22%3A%5B%22field-success%22%5D%2C%22fieldError%22%3A%5B%22field-error%22%5D%2C%22controlSuccess%22%3A%5B%22control-success%22%5D%2C%22controlError%22%3A%5B%22control-error%22%5D%7D%7D%7D\" name=\"teams-engine/config/environment\"/>\n",
       "<link href=\"https://d1iq7pbacwn5rb.cloudfront.net/opendata-ui/assets/assets/vendor-99893027fe5a37e76d45016b8d0c9447.css\" rel=\"stylesheet\"/>\n",
       "<!-- \n",
       "      clacite-components styles\n",
       "      TODO: look into pulling in from the public folder instead of CDN\n",
       "    -->\n",
       "<link href=\"https://unpkg.com/@esri/calcite-components@1.0.0-beta.22/dist/calcite/calcite.css\" rel=\"stylesheet\" type=\"text/css\"/>\n",
       "<!-- [begin custom site css injection point] - please do not remove this -->\n",
       "<!-- FOR LTR DEVELOPMENT/TESTING: Un-Comment the next section -->\n",
       "<!-- <link rel=\"stylesheet\" href=\"/assets/opendata-base.css\"> -->\n",
       "<!-- FOR RTL TESTING: Un-Comment the next section -->\n",
       "<!-- <link rel=\"stylesheet\" href=\"https://d1iq7pbacwn5rb.cloudfront.net/opendata-ui/assets/assets/opendata-rtl-d06b40cbcaffdcd6890251da8cb71b1c.css\">\n",
       "    <link rel=\"stylesheet\" href=\"//cdn.rawgit.com/morteza/bootstrap-rtl/v3.3.4/dist/css/bootstrap-rtl.min.css\"> -->\n",
       "<!-- [end custom site css injection point] - please do not remove this -->\n",
       "<!--\n",
       "      NOTE: adding calcite-components via script tag due to\n",
       "      https://github.com/Esri/replace-require-and-define/issues/2\n",
       "      TODO: look into pulling in from the public folder instead of CDN\n",
       "    -->\n",
       "<script src=\"https://unpkg.com/@esri/calcite-components@1.0.0-beta.22/dist/calcite/calcite.esm.js\" type=\"module\"></script>\n",
       "<script nomodule=\"\" src=\"https://unpkg.com/@esri/calcite-components@1.0.0-beta.22/dist/calcite/calcite.js\"></script>\n",
       "<script src=\"https://d1iq7pbacwn5rb.cloudfront.net/opendata-ui/assets/assets/esri-loader.min-c4fec8a9f0dca08f52eef46934991880.js\"></script>\n",
       "<meta content=\"%7B%22bundles%22%3A%7B%22activation-engine%22%3A%7B%22assets%22%3A%5B%7B%22uri%22%3A%22https%3A//d1iq7pbacwn5rb.cloudfront.net/opendata-ui/assets/engines-dist/activation-engine/assets/engine-fcab0694ced579604ecc07ab90c43f3e.js%22%2C%22type%22%3A%22js%22%7D%2C%7B%22uri%22%3A%22https%3A//d1iq7pbacwn5rb.cloudfront.net/opendata-ui/assets/engines-dist/activation-engine/config/environment-d06aa04d2f36ff47a188be6bd303a346.js%22%2C%22type%22%3A%22js%22%7D%5D%7D%2C%22community-engine%22%3A%7B%22assets%22%3A%5B%7B%22uri%22%3A%22https%3A//d1iq7pbacwn5rb.cloudfront.net/opendata-ui/assets/engines-dist/community-engine/assets/engine-cf06509aca0a81358afc0da4d541057f.js%22%2C%22type%22%3A%22js%22%7D%2C%7B%22uri%22%3A%22https%3A//d1iq7pbacwn5rb.cloudfront.net/opendata-ui/assets/engines-dist/community-engine/assets/engine-vendor-387511c31d4c2b814183983fe97f10b7.js%22%2C%22type%22%3A%22js%22%7D%2C%7B%22uri%22%3A%22https%3A//d1iq7pbacwn5rb.cloudfront.net/opendata-ui/assets/engines-dist/community-engine/config/environment-cee635c8d4963be55eba4dc314f4a3f6.js%22%2C%22type%22%3A%22js%22%7D%5D%7D%2C%22content-library-engine%22%3A%7B%22assets%22%3A%5B%7B%22uri%22%3A%22https%3A//d1iq7pbacwn5rb.cloudfront.net/opendata-ui/assets/engines-dist/content-library-engine/assets/engine-1c9a3b6b99382adefc063e15e8ea8e1c.js%22%2C%22type%22%3A%22js%22%7D%2C%7B%22uri%22%3A%22https%3A//d1iq7pbacwn5rb.cloudfront.net/opendata-ui/assets/engines-dist/content-library-engine/assets/engine-vendor-9978e2f1a2a3cf1942b47c243c4728d9.js%22%2C%22type%22%3A%22js%22%7D%2C%7B%22uri%22%3A%22https%3A//d1iq7pbacwn5rb.cloudfront.net/opendata-ui/assets/engines-dist/content-library-engine/config/environment-bc42c7494bbb84b2f488c47f3b5599d1.js%22%2C%22type%22%3A%22js%22%7D%5D%7D%2C%22dashboard-engine%22%3A%7B%22assets%22%3A%5B%7B%22uri%22%3A%22https%3A//d1iq7pbacwn5rb.cloudfront.net/opendata-ui/assets/engines-dist/dashboard-engine/assets/engine-2dd7e6d30c6a56b1279382272ffa5f37.js%22%2C%22type%22%3A%22js%22%7D%2C%7B%22uri%22%3A%22https%3A//d1iq7pbacwn5rb.cloudfront.net/opendata-ui/assets/engines-dist/dashboard-engine/assets/engine-vendor-387511c31d4c2b814183983fe97f10b7.js%22%2C%22type%22%3A%22js%22%7D%2C%7B%22uri%22%3A%22https%3A//d1iq7pbacwn5rb.cloudfront.net/opendata-ui/assets/engines-dist/dashboard-engine/config/environment-b219972db6f618d6357505ae8a250b23.js%22%2C%22type%22%3A%22js%22%7D%5D%7D%2C%22events-engine%22%3A%7B%22assets%22%3A%5B%7B%22uri%22%3A%22https%3A//d1iq7pbacwn5rb.cloudfront.net/opendata-ui/assets/engines-dist/events-engine/assets/engine-3633d91269fe6bdaccd9d4f7daca56d5.js%22%2C%22type%22%3A%22js%22%7D%2C%7B%22uri%22%3A%22https%3A//d1iq7pbacwn5rb.cloudfront.net/opendata-ui/assets/engines-dist/events-engine/assets/engine-vendor-ec9a63146c1d24378148589bc0e53f55.js%22%2C%22type%22%3A%22js%22%7D%2C%7B%22uri%22%3A%22https%3A//d1iq7pbacwn5rb.cloudfront.net/opendata-ui/assets/engines-dist/events-engine/config/environment-adb3009a3a9f7bd51fb74c8edbd02f76.js%22%2C%22type%22%3A%22js%22%7D%5D%7D%2C%22feedback-engine%22%3A%7B%22assets%22%3A%5B%7B%22uri%22%3A%22https%3A//d1iq7pbacwn5rb.cloudfront.net/opendata-ui/assets/engines-dist/feedback-engine/assets/engine-06f56203252e6d269089cb1ca40bc0df.js%22%2C%22type%22%3A%22js%22%7D%2C%7B%22uri%22%3A%22https%3A//d1iq7pbacwn5rb.cloudfront.net/opendata-ui/assets/engines-dist/feedback-engine/assets/engine-vendor-bd777c0f0d9dd2f7ef5f8b4f9b913f57.js%22%2C%22type%22%3A%22js%22%7D%2C%7B%22uri%22%3A%22https%3A//d1iq7pbacwn5rb.cloudfront.net/opendata-ui/assets/engines-dist/feedback-engine/config/environment-3e4e0d4892548d2df52b217db4028ece.js%22%2C%22type%22%3A%22js%22%7D%5D%7D%2C%22initiative-editor-engine%22%3A%7B%22assets%22%3A%5B%7B%22uri%22%3A%22https%3A//d1iq7pbacwn5rb.cloudfront.net/opendata-ui/assets/engines-dist/initiative-editor-engine/assets/engine-2abb0eb681176500388ab99e93f74462.js%22%2C%22type%22%3A%22js%22%7D%2C%7B%22uri%22%3A%22https%3A//d1iq7pbacwn5rb.cloudfront.net/opendata-ui/assets/engines-dist/initiative-editor-engine/assets/engine-vendor-bd777c0f0d9dd2f7ef5f8b4f9b913f57.js%22%2C%22type%22%3A%22js%22%7D%2C%7B%22uri%22%3A%22https%3A//d1iq7pbacwn5rb.cloudfront.net/opendata-ui/assets/engines-dist/initiative-editor-engine/config/environment-fe39675255839d5c76c2e992853c1496.js%22%2C%22type%22%3A%22js%22%7D%5D%7D%2C%22layout-editor-engine%22%3A%7B%22assets%22%3A%5B%7B%22uri%22%3A%22https%3A//d1iq7pbacwn5rb.cloudfront.net/opendata-ui/assets/engines-dist/layout-editor-engine/assets/engine-64981004cf1d3152e2254bd53c3778ba.js%22%2C%22type%22%3A%22js%22%7D%2C%7B%22uri%22%3A%22https%3A//d1iq7pbacwn5rb.cloudfront.net/opendata-ui/assets/engines-dist/layout-editor-engine/assets/engine-vendor-23b45a2f1ae78579ba2ca4fc4e6e2cc2.js%22%2C%22type%22%3A%22js%22%7D%2C%7B%22uri%22%3A%22https%3A//d1iq7pbacwn5rb.cloudfront.net/opendata-ui/assets/engines-dist/layout-editor-engine/config/environment-b9d7bd4dc788f116d31a16e2ffc69d30.js%22%2C%22type%22%3A%22js%22%7D%5D%7D%2C%22maps-engine%22%3A%7B%22assets%22%3A%5B%7B%22uri%22%3A%22https%3A//d1iq7pbacwn5rb.cloudfront.net/opendata-ui/assets/engines-dist/maps-engine/assets/engine-dd3a83ba44a0832f394b690bdd639f95.js%22%2C%22type%22%3A%22js%22%7D%2C%7B%22uri%22%3A%22https%3A//d1iq7pbacwn5rb.cloudfront.net/opendata-ui/assets/engines-dist/maps-engine/assets/engine-vendor-188819a7da922d27c286dd640266d1a3.css%22%2C%22type%22%3A%22css%22%7D%2C%7B%22uri%22%3A%22https%3A//d1iq7pbacwn5rb.cloudfront.net/opendata-ui/assets/engines-dist/maps-engine/assets/engine-vendor-b6249927a4c788bfaf80a4347df3e0d2.js%22%2C%22type%22%3A%22js%22%7D%2C%7B%22uri%22%3A%22https%3A//d1iq7pbacwn5rb.cloudfront.net/opendata-ui/assets/engines-dist/maps-engine/config/environment-4919dcebc46b7f154a03cda6c115adff.js%22%2C%22type%22%3A%22js%22%7D%5D%7D%2C%22overview-engine%22%3A%7B%22assets%22%3A%5B%7B%22uri%22%3A%22https%3A//d1iq7pbacwn5rb.cloudfront.net/opendata-ui/assets/engines-dist/overview-engine/assets/engine-692dec091a35a963e63fe12c81847373.js%22%2C%22type%22%3A%22js%22%7D%2C%7B%22uri%22%3A%22https%3A//d1iq7pbacwn5rb.cloudfront.net/opendata-ui/assets/engines-dist/overview-engine/assets/engine-vendor-7b91a722ac8156ef0252bea806b9de36.js%22%2C%22type%22%3A%22js%22%7D%2C%7B%22uri%22%3A%22https%3A//d1iq7pbacwn5rb.cloudfront.net/opendata-ui/assets/engines-dist/overview-engine/config/environment-68c3737629ab0c2de3e31f06d9059e0a.js%22%2C%22type%22%3A%22js%22%7D%5D%7D%2C%22solutions-engine%22%3A%7B%22assets%22%3A%5B%7B%22uri%22%3A%22https%3A//d1iq7pbacwn5rb.cloudfront.net/opendata-ui/assets/engines-dist/solutions-engine/assets/engine-26787dcdbd34396a013ba54bc125c0ec.js%22%2C%22type%22%3A%22js%22%7D%2C%7B%22uri%22%3A%22https%3A//d1iq7pbacwn5rb.cloudfront.net/opendata-ui/assets/engines-dist/solutions-engine/assets/engine-vendor-475eec5fd5d61830757d2bdf9e72aa73.js%22%2C%22type%22%3A%22js%22%7D%2C%7B%22uri%22%3A%22https%3A//d1iq7pbacwn5rb.cloudfront.net/opendata-ui/assets/engines-dist/solutions-engine/config/environment-aabab9b2b5bf2f68596bef4770e6b35b.js%22%2C%22type%22%3A%22js%22%7D%5D%7D%2C%22teams-engine%22%3A%7B%22assets%22%3A%5B%7B%22uri%22%3A%22https%3A//d1iq7pbacwn5rb.cloudfront.net/opendata-ui/assets/engines-dist/teams-engine/assets/engine-c4f6ac862736a357237148e80234b5f8.js%22%2C%22type%22%3A%22js%22%7D%2C%7B%22uri%22%3A%22https%3A//d1iq7pbacwn5rb.cloudfront.net/opendata-ui/assets/engines-dist/teams-engine/assets/engine-vendor-bd777c0f0d9dd2f7ef5f8b4f9b913f57.js%22%2C%22type%22%3A%22js%22%7D%2C%7B%22uri%22%3A%22https%3A//d1iq7pbacwn5rb.cloudfront.net/opendata-ui/assets/engines-dist/teams-engine/config/environment-a94411b37004a24ce3971c31ef6db8d1.js%22%2C%22type%22%3A%22js%22%7D%5D%7D%7D%7D\" name=\"opendata-ui/config/asset-manifest\"/>\n",
       "<script id=\"site-injection\">\n",
       "      window.__SITE={\"site\":{\"item\":{\"id\":\"c4904b1bf1a8429ab6240226038def3d\",\"owner\":\"WarrenDz\",\"orgId\":\"ZpeBVw5o1kjit7LT\",\"created\":1488575424000,\"modified\":1560447269000,\"guid\":null,\"name\":null,\"title\":\"City of Waterloo Open Data\",\"type\":\"Web Mapping Application\",\"typeKeywords\":[\"hubSite\",\"JavaScript\",\"Map\",\"Mapping Site\",\"Online Map\",\"Ready To Use\",\"selfConfigured\",\"Web Map\",\"Registered App\"],\"description\":\"DO NOT DELETE OR MODIFY THIS ITEM. This item is managed by the Open Data application. To make changes to this site, please visit https://opendata.arcgis.com/admin/\",\"tags\":[\"Hub Site\"],\"snippet\":\"City of Waterloo Open Data Site\",\"thumbnail\":\"thumbnail/ago_downloaded.png\",\"documentation\":null,\"extent\":[],\"categories\":[],\"spatialReference\":\"null\",\"accessInformation\":\"null\",\"licenseInfo\":\"null\",\"culture\":\"en-us\",\"properties\":{\"uiVersion\":\"2.1\",\"collaborationGroupId\":\"6c48159485a4464bb195920b121e7ed5\",\"schemaVersion\":1.2,\"globalNavViewCount\":1},\"url\":\"http://opendata-City-of-Waterloo.opendata.arcgis.com\",\"proxyFilter\":null,\"access\":\"public\",\"size\":293526,\"appCategories\":[],\"industries\":[],\"languages\":[],\"largeThumbnail\":null,\"banner\":null,\"screenshots\":[],\"listed\":false,\"commentsEnabled\":true,\"numComments\":0,\"numRatings\":0,\"avgRating\":0,\"numViews\":453569,\"scoreCompleteness\":70,\"groupDesignations\":null},\"data\":{\"source\":\"SITEEDITOR\",\"folderId\":null,\"values\":{\"subdomain\":\"opendata\",\"externalUrl\":null,\"public\":false,\"faviconUrl\":\"http://maps.waterloo.ca/web_images/favicon.ico\",\"uiVersion\":\"2.3\",\"extent\":{},\"map\":{\"basemaps\":{\"type\":\"default\",\"primary\":{\"extent\":{\"xmin\":-20037507.067161843,\"ymin\":-19971868.88040859,\"xmax\":20037507.067161843,\"ymax\":19971868.880408563,\"spatialReference\":{\"wkid\":102100}},\"isWebMercator\":true,\"title\":\"Light Gray Canvas\",\"baseMapLayers\":[{\"type\":\"ArcGISTiledMapServiceLayer\",\"url\":\"https://services.arcgisonline.com/ArcGIS/rest/services/Canvas/World_Light_Gray_Base/MapServer\"},{\"type\":\"ArcGISTiledMapServiceLayer\",\"url\":\"https://services.arcgisonline.com/ArcGIS/rest/services/Canvas/World_Light_Gray_Reference/MapServer\",\"isReference\":true}]},\"secondary\":{\"extent\":{\"xmin\":-20037507.067161843,\"ymin\":-19971868.88040859,\"xmax\":20037507.067161843,\"ymax\":19971868.880408563,\"spatialReference\":{\"wkid\":102100}},\"isWebMercator\":true,\"title\":\"World Imagery\",\"baseMapLayers\":[{\"type\":\"ArcGISTiledMapServiceLayer\",\"url\":\"https://services.arcgisonline.com/ArcGIS/rest/services/World_Imagery/MapServer\"}]}}},\"defaultExtent\":{\"type\":\"extent\",\"xmin\":-8972462.277427888,\"ymin\":5378726.0240717335,\"xmax\":-8958769.98006032,\"ymax\":5391305.564477854,\"spatialReference\":{\"wkid\":102100}},\"pages\":[{\"id\":\"8844e3b457d2436cb1029e7470b2be8c\",\"title\":\"Open Data Licence\",\"slug\":\"open-data-licence\"},{\"id\":\"e8ce151c835f4219a164258456722212\",\"title\":\"Open Data FAQ\",\"slug\":\"open-data-faq\"}],\"layout\":{\"sections\":[{\"containment\":\"fixed\",\"isFooter\":false,\"style\":{\"background\":{\"isFile\":false,\"isUrl\":true,\"state\":\"valid\",\"display\":{},\"transparency\":0,\"position\":{\"x\":\"center\",\"y\":\"center\"},\"color\":\"#ffffff\",\"image\":\"http://maps.waterloo.ca/images/waterloo_panoramic_2013.jpg\",\"darken\":false},\"color\":\"#ffffff\"},\"rows\":[{\"cards\":[{\"component\":{\"name\":\"jumbotron-card\",\"settings\":{\"header\":\"City of Waterloo Open Data\",\"subheader\":\"\",\"minHeight\":\"300\",\"showLocation\":false,\"imageUrl\":\"\",\"fileSrc\":\"\",\"cropSrc\":\"\",\"isUrl\":true,\"isFile\":false,\"state\":\"\",\"position\":{\"x\":\"center\",\"y\":\"center\"},\"display\":{},\"showSearch\":true,\"searchPlaceholder\":\"Search for Open Data\"}},\"width\":12}]}]},{\"containment\":\"fixed\",\"isFooter\":false,\"style\":{\"background\":{\"isFile\":false,\"isUrl\":true,\"state\":\"\",\"display\":{},\"transparency\":0,\"position\":{\"x\":\"center\",\"y\":\"center\"},\"color\":\"#1c66a6\",\"image\":\"\"},\"color\":\"#ffffff\"},\"rows\":[{\"cards\":[{\"component\":{\"name\":\"markdown-card\",\"settings\":{\"markdown\":\"<h2 id=\\\"what-is-open-data-\\\">What is Open Data?</h2>\\n<p class=\\\"lead text-justify\\\">This Open Data Catalogue is a free and open data sharing portal where anyone can access and use data relating to the City of Waterloo, Ontario, Canada. You can browse, search, preview, and download a variety of municipal geospatial and tabular data. Descriptions of each dataset will help with understanding of the content. You may use and republish the data as you wish, according to the open licence agreement.</p>\",\"schemaVersion\":1}},\"width\":12,\"showEditor\":false}]}]},{\"containment\":\"fixed\",\"isFooter\":false,\"style\":{\"background\":{\"isFile\":false,\"isUrl\":true,\"state\":\"\",\"display\":{},\"transparency\":0,\"position\":{\"x\":\"center\",\"y\":\"center\"},\"color\":\"#ffffff\"},\"color\":\"#4C4C4C\"},\"rows\":[{\"cards\":[{\"component\":{\"name\":\"markdown-card\",\"settings\":{\"markdown\":\"<p><h1 class=\\\"text-center\\\">Explore Data Categories</h1></p>\\n<p class=\\\"text-center\\\"><a href=\\\"http://opendata-city-of-waterloo.opendata.arcgis.com/datasets?sort=name\\\">...or view the entire catalogue</a></p>\",\"schemaVersion\":1}},\"width\":12,\"showEditor\":false}]}]},{\"containment\":\"fixed\",\"isFooter\":false,\"style\":{\"background\":{\"isFile\":false,\"isUrl\":true,\"state\":\"\",\"display\":{},\"transparency\":0,\"position\":{\"x\":\"center\",\"y\":\"center\"},\"color\":\"#ffffff\"},\"color\":\"#808080\"},\"rows\":[{\"cards\":[{\"component\":{\"name\":\"category-card\",\"settings\":{\"category\":\"Base Data\",\"type\":\"keyword\",\"keyword\":\"base data\",\"iconName\":\"society\",\"iconType\":\"library\",\"iconColor\":\"#1c66a6\",\"customAltText\":\"\"}},\"width\":2},{\"component\":{\"name\":\"category-card\",\"settings\":{\"category\":\"Boundaries\",\"type\":\"keyword\",\"keyword\":\"boundaries\",\"iconName\":\"boundaries\",\"iconType\":\"library\",\"iconColor\":\"#1c66a6\",\"customAltText\":\"\"}},\"width\":2},{\"component\":{\"name\":\"category-card\",\"settings\":{\"category\":\"Closures\",\"type\":\"keyword\",\"keyword\":\"closures\",\"iconName\":\"transportation\",\"iconType\":\"library\",\"iconColor\":\"#1c66a6\",\"customAltText\":\"\"}},\"width\":2},{\"component\":{\"name\":\"category-card\",\"settings\":{\"category\":\"Community\",\"type\":\"keyword\",\"keyword\":\"community\",\"iconName\":\"demographics\",\"iconType\":\"library\",\"iconColor\":\"#1c66a6\",\"customAltText\":\"\"}},\"width\":2},{\"component\":{\"name\":\"category-card\",\"settings\":{\"category\":\"Elections\",\"type\":\"keyword\",\"keyword\":\"elections\",\"iconName\":\"check\",\"iconType\":\"library\",\"iconColor\":\"#1c66a6\",\"customAltText\":\"\"}},\"width\":2},{\"component\":{\"name\":\"category-card\",\"settings\":{\"category\":\"Environment\",\"type\":\"keyword\",\"keyword\":\"environment\",\"iconName\":\"biota\",\"iconType\":\"library\",\"iconColor\":\"#1c66a6\",\"customAltText\":\"\"}},\"width\":2}]},{\"cards\":[{\"component\":{\"name\":\"category-card\",\"settings\":{\"category\":\"Events\",\"type\":\"keyword\",\"keyword\":\"events\",\"iconName\":\"military\",\"iconType\":\"library\",\"iconColor\":\"#1c66a6\",\"customAltText\":\"\"}},\"width\":2},{\"component\":{\"name\":\"category-card\",\"settings\":{\"category\":\"Heritage\",\"type\":\"keyword\",\"keyword\":\"heritage\",\"iconName\":\"historic\",\"iconType\":\"library\",\"iconColor\":\"#1c66a6\",\"customAltText\":\"\"}},\"width\":2},{\"component\":{\"name\":\"category-card\",\"settings\":{\"category\":\"Infrastructure\",\"type\":\"keyword\",\"keyword\":\"infrastructure\",\"iconName\":\"utility1\",\"iconType\":\"library\",\"iconColor\":\"#1c66a6\",\"customAltText\":\"\"}},\"width\":2},{\"component\":{\"name\":\"category-card\",\"settings\":{\"category\":\"Parks & Recreation\",\"type\":\"keyword\",\"keyword\":\"parks\",\"iconName\":\"recreation\",\"iconType\":\"library\",\"iconColor\":\"#1c66a6\",\"customAltText\":\"\"}},\"width\":2},{\"component\":{\"name\":\"category-card\",\"settings\":{\"category\":\"Points of Interest\",\"type\":\"keyword\",\"keyword\":\"points of interest\",\"iconName\":\"location\",\"iconType\":\"library\",\"iconColor\":\"#1c66a6\",\"customAltText\":\"\"}},\"width\":2},{\"component\":{\"name\":\"category-card\",\"settings\":{\"category\":\"Records\",\"type\":\"keyword\",\"keyword\":\"records\",\"iconName\":\"Generic_Book\",\"iconType\":\"library\",\"iconColor\":\"#1c66a6\",\"customAltText\":\"\"}},\"width\":2}]},{\"cards\":[{\"component\":{\"name\":\"category-card\",\"settings\":{\"category\":\"Transportation\",\"type\":\"keyword\",\"keyword\":\"transportation\",\"iconName\":\"transportation\",\"iconType\":\"library\",\"iconColor\":\"#1c66a6\",\"customAltText\":\"\"}},\"width\":12}]}]},{\"containment\":\"fixed\",\"isFooter\":false,\"style\":{\"background\":{\"isFile\":false,\"isUrl\":true,\"state\":\"\",\"display\":{},\"transparency\":0,\"position\":{\"x\":\"center\",\"y\":\"center\"},\"color\":\"transparent\"}},\"rows\":[{\"cards\":[{\"component\":{\"name\":\"markdown-card\",\"settings\":{\"markdown\":\"<div class=\\\"p-body\\\">\\n<h3 class=\\\"text-left\\\">Using The Site</h3>\\n<p class=\\\"text-left\\\">Use the search bar at the top of the page to find data relating to topics of interest. As you browse through the different datasets, the extent of each will be displayed on the map. Once you find what you are looking for, select the dataset from the list to be able to view the data and get options for download.\\nYou can also view our <a href=\\\"http://opendata.city-of-waterloo.opendata.arcgis.com/datasets?sort_by=name\\\">complete list of datasets</a>.</p>\\n</div></div>\",\"schemaVersion\":1}},\"width\":4,\"showEditor\":false},{\"component\":{\"name\":\"markdown-card\",\"settings\":{\"markdown\":\"<div class=\\\"p-body\\\">\\n<h3 class=\\\"text-left\\\">Accessing Data</h3>\\n<p class=\\\"text-left\\\">There are several ways to access the data within. The data can be downloaded as shapefiles, file geodatabases, or KML for GIS applications, and as CSV for tables and spreadsheets. Advanced users may also integrate our data into other applications. <a href=\\\"http://doc.arcgis.com/en/open-data/\\\">Learn more</a> about this Open Data platform and even get involved in the <a href=\\\"http://opendata.arcgis.com\\\">Global ArcGIS Open Data Community</a>.</p>\\n</div></div>\",\"schemaVersion\":1}},\"width\":4,\"showEditor\":false},{\"component\":{\"name\":\"markdown-card\",\"settings\":{\"markdown\":\"<h3 id=\\\"developers-h3-\\\">Developers</h3></h3>\\n<p><p class=\\\"text-left\\\">Develop new apps using templates and APIs. Data from this site can be easily embedded in other applications using the GeoService or GeoJSON links. Explore the ESRI <a href=\\\"https://developers.arcgis.com/javascript/\\\">JavaScript API documentation</a> to get started. <br><a href=\\\"http://www.esri.com/software/open\\\">Our Open Vision</a> | <a href=\\\"http://developers.arcgis.com\\\">Developer API</a></p></p>\\n</div></p>\\n\",\"schemaVersion\":1}},\"width\":4,\"showEditor\":false}]}]},{\"containment\":\"fixed\",\"isFooter\":false,\"style\":{\"background\":{\"isFile\":false,\"isUrl\":true,\"state\":\"\",\"display\":{},\"transparency\":0,\"position\":{\"x\":\"center\",\"y\":\"center\"},\"color\":\"transparent\"}},\"rows\":[{\"cards\":[{\"component\":{\"name\":\"markdown-card\",\"settings\":{\"markdown\":\"<p><h1 class=\\\"text-center\\\">Partners</h1><a id=\\\"partners\\\"></a></p>\\n<p class = \\\"text-center\\\">\\nAdditional Data Provided by Our Partners<a id=\\\"partners\\\"></a><br>\\n<center>\\n<ul class=\\\"cards-list\\\">\\n<li class=\\\"col-xs-12 col-sm-6 col-md-3\\\">\\n<div class=\\\"card center-block\\\"><img src=\\\"http://maps.waterloo.ca/City_of_Cambridge.jpg\\\" alt=\\\"Card Thumbnail\\\">\\n<div class=\\\"card-options\\\">\\n<br />\\n<br />\\n<a href=\\\"https://www.cambridge.ca/en/your-city/Open-Data.aspx\\\" class=\\\"btn btn-default btn-open\\\">City of Cambridge</a>\\n</div><hr>\\n<br />\\n<p>City of Cambridge Open Data Catalogue.</p>\\n</div>\\n</li>\\n<li class=\\\"col-xs-12 col-sm-6 col-md-3\\\">\\n<div class=\\\"card center-block\\\"><img src=\\\"http://maps.waterloo.ca/Region_of_Waterloo.jpg\\\" alt=\\\"Card Thumbnail\\\">\\n<div class=\\\"card-options\\\">\\n<br />\\n<br />\\n<a href=\\\"http://rowopendata-rmw.opendata.arcgis.com\\\" class=\\\"btn btn-default btn-open\\\">Region of Waterloo</a>\\n</div><hr>\\n<br />\\n<p>Region of Waterloo Open Data Catalogue</p>\\n</div>\\n</li>\\n<li class=\\\"col-xs-12 col-sm-6 col-md-3\\\">\\n<div class=\\\"card center-block\\\"><center><img src=\\\"http://maps.waterloo.ca/City_of_Kitchener.jpg\\\" alt=\\\"Card Thumbnail\\\">\\n<div class=\\\"card-options\\\">\\n<br />\\n<br />\\n<a href=\\\"http://open-kitchenergis.opendata.arcgis.com\\\" class=\\\"btn btn-default btn-open\\\">City of Kitchener</a>\\n</div><hr>\\n<br />\\n<p>City of Kitchener Open Data Catalogue</p>\\n</div>\\n</li>\\n</ul>\\n</center>\\n</p>\",\"schemaVersion\":1}},\"width\":12,\"showEditor\":false}]}]}],\"header\":{\"component\":{\"name\":\"site-header\",\"settings\":{\"fullWidth\":false,\"iframeHeight\":\"150px\",\"iframeUrl\":\"\",\"links\":[],\"logoUrl\":\"\",\"title\":\"\",\"markdown\":\"<nav class=\\\"navbar navbar-default navbar-static-top first-tier\\\">\\n  <div class=\\\"container\\\">\\n    <div class=\\\"navbar-header\\\">\\n      <div class=\\\"navbar-brand\\\">\\n        <div class=\\\"site-logo\\\">\\n          <a href=\\\"http://data.waterloo.ca\\\">\\n          <img src=\\\"http://maps.waterloo.ca/Images/W_logoCMYK.png\\\" width=\\\"50\\\" height=\\\"50\\\"  alt=\\\"logo\\\">\\n          <h1>City of Waterloo Open Data</h1>\\n          </a> \\n       </div>\\n     </div>\\n    </div>\\n    <ul class=\\\"nav nav-pills pull-right\\\" role=\\\"navigation\\\">\\n        <li><a href=\\\"http://data.waterloo.ca/pages/open-data-licence\\\">Data Licence</a></li>\\n        <li><a href=\\\"http://data.waterloo.ca/#developers\\\">Developers</a></li>\\n        <li><a href=\\\"http://www.waterloo.ca/en/eservices/MapsandGIS.asp\\\">Contact</a></li>\\n        <li><a href=\\\"http://www.peakdemocracy.ca/portals/151/Forum_447/Issue_1602\\\">Feedback</a></li>\\n        <li><a href=\\\"https://twitter.com/citywaterloo\\\">Twitter</a></li>\\n        <li><a href=\\\"http://www.waterloo.ca\\\">City Website</a></li>\\n    </ul>\\n  </div>\\n</nav>\",\"headerType\":\"custom\",\"showLogo\":true,\"showTitle\":true,\"logo\":{\"display\":{}},\"shortTitle\":\"\",\"menuLinks\":[],\"socialLinks\":{\"facebook\":{},\"twitter\":{},\"instagram\":{}},\"schemaVersion\":2}},\"showEditor\":false},\"footer\":{\"component\":{\"name\":\"site-footer\",\"settings\":{\"footerType\":\"custom\",\"markdown\":\"<div class=\\\"footer-background\\\">\\n  <div class=\\\"container\\\">\\n    <div class=\\\"col-xs-12\\\">\\n          <img src=\\\"http://maps.waterloo.ca/COW_small_logoCMYK.png\\\" class=\\\"center-block logo\\\">\\n    </div>\\n    <div class=\\\"col-xs-12 center-block\\\">\\n          <ul class=\\\"nav nav-pills\\\">\\n              <li role=\\\"presentation\\\"><a href=\\\"http://data.waterloo.ca/\\\">Home</a></li>\\n              <li role=\\\"presentation\\\"><a href=\\\"http://data.waterloo.ca/datasets?sort=name\\\">Catalogue</a></li>\\n              <li role=\\\"presentation\\\"><a href=\\\"http://data.waterloo.ca/pages/open-data-licence\\\">Open Data Licence</a></li>\\n                <li role=\\\"presentation\\\"><a href=\\\"http://www.peakdemocracy.ca/portals/151/Forum_447/Issue_1602\\\">Open Data Feedback</a></li>\\n              <li role=\\\"presentation\\\"><a href=\\\"http://www.waterloo.ca/en/eservices/MapsandGIS.asp\\\">Contact Us</a></li>\\n            </ul>\\n    </div>\\n    <div class=\\\"col-xs-12 center-block\\\">\\n          <ul class=\\\"nav nav-pills\\\">\\n              <li role=\\\"presentation\\\"><a href=\\\"http://www.facebook.com/citywaterloo\\\"><img src=\\\"http://maps.waterloo.ca/facebook.png\\\" alt=\\\"Facebook\\\" style=\\\"width:40px;height:40px;border:0;\\\"></a></li>\\n              <li role=\\\"presentation\\\"><a href=\\\"http://www.twitter.com/citywaterloo\\\"><img src=\\\"http://maps.waterloo.ca/twitter.png\\\" alt=\\\"Twitter\\\" style=\\\"width:40px;height:40px;border:0;\\\"></a></li>\\n               <li role=\\\"presentation\\\"><a href=\\\"https://vimeo.com/citywaterloo\\\"><img src=\\\"http://maps.waterloo.ca/vimeo.png\\\" alt=\\\"Vimeo\\\" style=\\\"width:40px;height:40px;border:0;\\\"></a></li>\\n            </ul>\\n    </div>\\n    <div class=\\\"col-xs-12\\\">\\n      <div class=\\\"text-center\\\">© 2012-2018 City of Waterloo<br>City of Waterloo<br>\\n100 Regina St S<br>\\nPO Box 337, Station Waterloo<br>\\nWaterloo, Ontario<br>\\nN2J 4A8</div>\\n    </div>\\n  </div>\\n</div>\",\"schemaVersion\":1}},\"showEditor\":false}},\"theme\":{\"header\":{\"background\":\"#1c66a6\",\"text\":\"#ffffff\"},\"body\":{\"background\":\"#f8f8f8\",\"text\":\"#4c4c4c\",\"link\":\"#136fbf\"},\"button\":{\"background\":\"#136fbf\",\"text\":\"#ffffff\"},\"logo\":{\"small\":\"\"},\"flags\":{\"umbrella\":false},\"fonts\":{\"base\":{\"url\":\"\",\"family\":\"Avenir Next\"},\"heading\":{\"url\":\"\",\"family\":\"Avenir Next\"}},\"globalNav\":{\"background\":\"#1c66a6\",\"text\":\"#ffffff\"}},\"headerSass\":\".custom-header {\\n\\n  .first-tier {\\n    height: 80px;\\n    margin-bottom: 0px;\\n  }\\n\\n  .first-tier .nav>li>a {\\n    margin-top: 5px;\\n    padding: 3px 6px;\\n  }\\n\\n  .first-tier .nav>li>a:focus,\\n  .first-tier .nav>li>a:hover {\\n    background-color: #136fbf;\\n    color: #fff;\\n  }\\n\\n  .first-tier .site-logo img {\\n    vertical-align: middle;\\n  }\\n\\n  .first-tier h1 {\\n    display: inline;\\n    font-size: 25px;\\n  }\\n\\n  .second-tier {\\n    margin-bottom: 0px;\\n  }\\n}\",\"footerSass\":\".custom-footer {\\n.footer-background {\\n    padding-top: 20px;\\n    padding-bottom: 20px;\\n    background-color: #e7e7e7;\\n  }\\n\\n  .logo, .nav {\\n    margin-bottom: 10px;\\n  }\\n\\n  .nav-pills {\\n      display: flex;\\n      justify-content: center;\\n  }\\n\\n}\",\"collaborationGroupId\":\"6c48159485a4464bb195920b121e7ed5\",\"capabilities\":[\"geohash\",\"api_explorer\",\"pages\",\"my_data\",\"social_logins\"],\"defaultHostname\":\"opendata-city-of-waterloo.opendata.arcgis.com\",\"updatedAt\":\"2019-06-13T17:34:46.188Z\",\"updatedBy\":\"cdejacob\",\"clientId\":\"VswpPTjrUrA6a2An\",\"stylesheets\":{\"opendata\":{\"current\":\"https://City-of-Waterloo.maps.arcgis.com/sharing/rest/content/items/c4904b1bf1a8429ab6240226038def3d/resources/opendata.css.txt\"}},\"siteId\":\"14003\",\"customHostname\":\"data.waterloo.ca\",\"gacode\":\"UA-41182677-1\"},\"catalog\":{\"groups\":[\"b04b0eafc4ff4d05a66de852c57d153b\",\"29614814565e4342bbc6938cd461d5b4\",\"a04aa81fab774bdab4990f74e979d22b\",\"96f1c9e1e9ee4f11be35a26c073b4b34\",\"bae5114adabf43829886f38e54253541\"]}},\"domainInfo\":{\"id\":\"8430\",\"domain\":\"data.waterloo.ca\",\"hostname\":\"data.waterloo.ca\",\"siteId\":\"c4904b1bf1a8429ab6240226038def3d\",\"clientKey\":\"VswpPTjrUrA6a2An\",\"orgKey\":\"City-of-Waterloo\",\"siteTitle\":\"City of Waterloo Open Data\",\"orgId\":\"ZpeBVw5o1kjit7LT\",\"orgTitle\":\"City of Waterloo\",\"createdAt\":\"2017-03-03T21:45:59Z\",\"updatedAt\":\"2017-03-03T21:45:59Z\",\"sslOnly\":false,\"permanentRedirect\":false},\"injected\":true,\"status\":200},\"status\":200}\n",
       "    </script>\n",
       "<script id=\"domain-injection\">\n",
       "      window.__DOMAIN={\"domainInfo\":{\"id\":\"8430\",\"domain\":\"data.waterloo.ca\",\"hostname\":\"data.waterloo.ca\",\"siteId\":\"c4904b1bf1a8429ab6240226038def3d\",\"clientKey\":\"VswpPTjrUrA6a2An\",\"orgKey\":\"City-of-Waterloo\",\"siteTitle\":\"City of Waterloo Open Data\",\"orgId\":\"ZpeBVw5o1kjit7LT\",\"orgTitle\":\"City of Waterloo\",\"createdAt\":\"2017-03-03T21:45:59Z\",\"updatedAt\":\"2017-03-03T21:45:59Z\",\"sslOnly\":false,\"permanentRedirect\":false}}\n",
       "    </script>\n",
       "<style>\n",
       "      #base-loader{display:block;fill:none;stroke:#009af2;animation:loader-color-shift 2s alternate-reverse infinite linear;height:54px;margin-top:75px}#base-loader svg.loader-square{position:absolute;left:0;right:0;margin-left:auto;margin-right:auto;width:54px;height:54px;stroke-width:6px;stroke-dashoffset:0;fill:none}#base-loader svg.loader-square.loader-square-1{stroke-dasharray:50% 350%;animation:loader-clockwise 2s infinite linear}#base-loader svg.loader-square.loader-square-2{stroke-dasharray:100% 225% 50% 25%;animation:loader-clockwise 1s infinite linear}#base-loader svg.loader-square.loader-square-3{stroke-dasharray:50% 50% 75% 225%;animation:loader-clockwise 1.85s infinite linear}@keyframes loader-color-shift{0%{stroke:#009af2}100%{stroke:#00619b}}@keyframes loader-clockwise{0%{stroke-dashoffset:0}100%{stroke-dashoffset:-400%}}#base-loader .loader-bars{display:none}@media screen and (-ms-high-contrast:active),(-ms-high-contrast:none){#base-loader svg,.active#base-loader svg{display:none}#base-loader .loader-bars,.active#base-loader .loader-bars{display:block}}@supports (-ms-ime-align:auto){#base-loader svg,.active#base-loader svg{display:none}#base-loader .loader-bars,.active#base-loader .loader-bars{display:block}}#base-loader .loader-bars,#base-loader .loader-bars:after,#base-loader .loader-bars:before{background:#0079c1;animation:load .8s infinite ease-in-out;width:8.5px;height:20px}#base-loader .loader-bars:after,#base-loader .loader-bars:before{position:absolute;top:0;content:\"\"}#base-loader .loader-bars{text-indent:-9999em;margin:auto;position:absolute;right:calc(50% - 4.25px);animation-delay:.16s}#base-loader .loader-bars:before{left:-12.5px}#base-loader .loader-bars:after{left:12.5px;animation-delay:.32s}@keyframes load{0%,100%,80%{opacity:.75;box-shadow:0 0 #0079c1;height:20px}40%{opacity:1;box-shadow:0 -5px #0079c1;height:25px}}\n",
       "    </style>\n",
       "</head>\n",
       "<body class=\"calcite\">\n",
       "<script>\n",
       "        if (!Object.assign || (window && !!window.MSInputMethodContext && !!document.documentMode) || (window && !window.URLSearchParams)) {\n",
       "          // from:https://github.com/jserz/js_piece/blob/master/DOM/ChildNode/remove()/remove().md\n",
       "          (function (arr) {\n",
       "            arr.forEach(function (item) {\n",
       "              if (item.hasOwnProperty('remove')) {\n",
       "                return;\n",
       "              }\n",
       "              Object.defineProperty(item, 'remove', {\n",
       "                configurable: true,\n",
       "                enumerable: true,\n",
       "                writable: true,\n",
       "                value: function remove() {\n",
       "                  if (this.parentNode !== null)\n",
       "                    this.parentNode.removeChild(this);\n",
       "                }\n",
       "              });\n",
       "            });\n",
       "          })([Element.prototype, CharacterData.prototype, DocumentType.prototype]);\n",
       "          // we're on IE11 or Legacy Edge, load polyfills\n",
       "          var script = document.createElement('script');\n",
       "          script.src = 'https://d1iq7pbacwn5rb.cloudfront.net/opendata-ui/assets/assets/polyfills/core.min-c1d64bc0c70edff30ae705ba26f9f1a3.js';\n",
       "          document.head.appendChild(script);\n",
       "          script = document.createElement('script');\n",
       "          script.src = 'https://d1iq7pbacwn5rb.cloudfront.net/opendata-ui/assets/assets/polyfills/fetch.umd-848afa31d2def504704dfeb806fcd734.js';\n",
       "          document.head.appendChild(script);\n",
       "          script = document.createElement('script');\n",
       "          script.src = 'https://d1iq7pbacwn5rb.cloudfront.net/opendata-ui/assets/assets/polyfills/url-polyfill.min-87d48d5c4c7d4c0818174ea56b2bad71.js';\n",
       "          document.head.appendChild(script);\n",
       "        } else if (!Promise.prototype.finally) {\n",
       "          var script = document.createElement('script');\n",
       "          script.src = 'https://d1iq7pbacwn5rb.cloudfront.net/opendata-ui/assets/assets/polyfills/core.min-c1d64bc0c70edff30ae705ba26f9f1a3.js';\n",
       "          document.head.appendChild(script);\n",
       "        }\n",
       "      </script>\n",
       "<div aria-label=\"loading\" id=\"base-loader\">\n",
       "<svg class=\"loader-square loader-square-1\" viewbox=\"0 0 56 56\" xmlns=\"http://www.w3.org/2000/svg\">\n",
       "<rect height=\"56\" width=\"56\"></rect>\n",
       "</svg>\n",
       "<svg class=\"loader-square loader-square-2\" viewbox=\"0 0 56 56\" xmlns=\"http://www.w3.org/2000/svg\">\n",
       "<rect height=\"56\" width=\"56\"></rect>\n",
       "</svg>\n",
       "<svg class=\"loader-square loader-square-3\" viewbox=\"0 0 56 56\" xmlns=\"http://www.w3.org/2000/svg\">\n",
       "<rect height=\"56\" width=\"56\"></rect>\n",
       "</svg>\n",
       "<div class=\"loader-bars\"></div>\n",
       "</div>\n",
       "<!-- crossorigin options added because otherwise we cannot see error messages from unhandled errors and rejections -->\n",
       "<script crossorigin=\"anonymous\" src=\"https://d1iq7pbacwn5rb.cloudfront.net/opendata-ui/assets/assets/vendor-9f05e81a5d0dd7c40a31026cfe4231c7.js\"></script>\n",
       "<script crossorigin=\"anonymous\" src=\"https://d1iq7pbacwn5rb.cloudfront.net/opendata-ui/assets/assets/opendata-ui-2592f692ef0141c073af4ee8008d5781.js\"></script>\n",
       "<div id=\"ember-basic-dropdown-wormhole\"></div>\n",
       "<!-- opendata-ui version: 5.93.3+e1613f264d - Fri, 01 May 2020 21:52:10 GMT -->\n",
       "</body></html>"
      ]
     },
     "execution_count": 14,
     "metadata": {},
     "output_type": "execute_result"
    }
   ],
   "source": [
    "page=bsoup(r.text,\"html.parser\")\n",
    "page"
   ]
  },
  {
   "cell_type": "code",
   "execution_count": null,
   "metadata": {},
   "outputs": [],
   "source": []
  },
  {
   "cell_type": "code",
   "execution_count": null,
   "metadata": {},
   "outputs": [],
   "source": []
  }
 ],
 "metadata": {
  "kernelspec": {
   "display_name": "Python 3.6",
   "language": "python",
   "name": "python3"
  },
  "language_info": {
   "codemirror_mode": {
    "name": "ipython",
    "version": 3
   },
   "file_extension": ".py",
   "mimetype": "text/x-python",
   "name": "python",
   "nbconvert_exporter": "python",
   "pygments_lexer": "ipython3",
   "version": "3.6.9"
  }
 },
 "nbformat": 4,
 "nbformat_minor": 1
}
